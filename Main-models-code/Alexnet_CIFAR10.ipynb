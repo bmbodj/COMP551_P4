{
  "nbformat": 4,
  "nbformat_minor": 0,
  "metadata": {
    "colab": {
      "name": "Alexnet_CIFAR10.ipynb",
      "version": "0.3.2",
      "provenance": [],
      "collapsed_sections": []
    },
    "kernelspec": {
      "display_name": "Python 3",
      "language": "python",
      "name": "python3"
    },
    "accelerator": "GPU"
  },
  "cells": [
    {
      "metadata": {
        "id": "r6HdN6hUrLs7",
        "colab_type": "text"
      },
      "cell_type": "markdown",
      "source": [
        "# COMP551: Project 4"
      ]
    },
    {
      "metadata": {
        "id": "sGtlRPN47x5W",
        "colab_type": "text"
      },
      "cell_type": "markdown",
      "source": [
        "####Group 77:\n",
        "#####Authors :  Boury Mbodj, Humayun Khan & Ying Sun \n",
        "#####Date : April 15 th 2019\n",
        "#####Subject: The given file contains the implementation of AlexNET\n"
      ]
    },
    {
      "metadata": {
        "colab_type": "code",
        "id": "an4jb3M2o0iZ",
        "colab": {}
      },
      "cell_type": "code",
      "source": [
        "import pandas as pd\n",
        "import torch\n",
        "import torchvision\n",
        "from PIL import Image\n",
        "import torchvision.transforms as transforms\n",
        "import numpy as np\n",
        "from torch.utils.data import DataLoader, Dataset, TensorDataset"
      ],
      "execution_count": 0,
      "outputs": []
    },
    {
      "metadata": {
        "colab_type": "code",
        "id": "pYAd2_qtvypy",
        "outputId": "511f6999-fa38-471a-f36d-77d8573ff0cd",
        "colab": {
          "base_uri": "https://localhost:8080/",
          "height": 85
        }
      },
      "cell_type": "code",
      "source": [
        "%%time\n",
        "transform = transforms.Compose([transforms.Resize(256),#Increase the size of images\n",
        "                                transforms.ToTensor(),\n",
        "                               #transforms.Lambda(lambda x: x.repeat(3,1,1)),\n",
        "                               transforms.Normalize((0.5, 0.5, 0.5), (0.5, 0.5, 0.5))])\n",
        "training_dataset = torchvision.datasets.CIFAR10(root='./data', train=True, download=True, transform=transform)\n",
        "validation_dataset = torchvision.datasets.CIFAR10(root='./data', train=False, download=True, transform=transform)\n",
        "\n",
        "trainloader = torch.utils.data.DataLoader(training_dataset, batch_size=100, shuffle=True,num_workers=2)\n",
        "validloader = torch.utils.data.DataLoader(validation_dataset, batch_size =100, shuffle=False,num_workers=2)"
      ],
      "execution_count": 2,
      "outputs": [
        {
          "output_type": "stream",
          "text": [
            "Files already downloaded and verified\n",
            "Files already downloaded and verified\n",
            "CPU times: user 1.55 s, sys: 441 ms, total: 1.99 s\n",
            "Wall time: 1.99 s\n"
          ],
          "name": "stdout"
        }
      ]
    },
    {
      "metadata": {
        "id": "17cQ8K4PO83O",
        "colab_type": "code",
        "colab": {}
      },
      "cell_type": "code",
      "source": [
        "import torchvision.models as models\n",
        "# use pretrained model:\n",
        "model = models.alexnet(pretrained = False)   "
      ],
      "execution_count": 0,
      "outputs": []
    },
    {
      "metadata": {
        "id": "EPymGSZuqg-e",
        "colab_type": "code",
        "outputId": "7ae9b805-55e4-4525-aa0f-b4faaf7a4dd1",
        "colab": {
          "base_uri": "https://localhost:8080/",
          "height": 547
        }
      },
      "cell_type": "code",
      "source": [
        "# Add code to get model size and number of parameters\n",
        "import pickle\n",
        "import sys\n",
        "\n",
        "p = pickle.dumps(model)\n",
        "\n",
        "size = sys.getsizeof(p)  #gets the size in bytes\n",
        "size = size/1000000\n",
        "print(\"Model size =\", size, \"MBs\")\n",
        "\n",
        "\n",
        "\n",
        "def get_n_params(model):\n",
        "    pp=0\n",
        "    for p in list(model.parameters()):\n",
        "        nn=1\n",
        "        for s in list(p.size()):\n",
        "            nn = nn*s\n",
        "        pp += nn\n",
        "    return pp\n",
        "  \n",
        "print(\"Total number of parameters before reducing class size: \")\n",
        "print(get_n_params(model))\n",
        "\n",
        "from torch.nn.modules.module import _addindent\n",
        "def torch_summarize(model, show_weights=True, show_parameters=True):\n",
        "    \"\"\"Summarizes torch model by showing trainable parameters and weights.\"\"\"\n",
        "    tmpstr = model.__class__.__name__ + ' (\\n'\n",
        "    for key, module in model._modules.items():\n",
        "        # if it contains layers let call it recursively to get params and weights\n",
        "        if type(module) in [\n",
        "            torch.nn.modules.container.Container,\n",
        "            torch.nn.modules.container.Sequential\n",
        "        ]:\n",
        "            modstr = torch_summarize(module)\n",
        "        else:\n",
        "            modstr = module.__repr__()\n",
        "        modstr = _addindent(modstr, 2)\n",
        "\n",
        "        params = sum([np.prod(p.size()) for p in module.parameters()])\n",
        "        weights = tuple([tuple(p.size()) for p in module.parameters()])\n",
        "\n",
        "        tmpstr += '  (' + key + '): ' + modstr \n",
        "        if show_weights:\n",
        "            tmpstr += ', weights={}'.format(weights)\n",
        "        if show_parameters:\n",
        "            tmpstr +=  ', parameters={}'.format(params)\n",
        "        tmpstr += '\\n'   \n",
        "\n",
        "    tmpstr = tmpstr + ')'\n",
        "    return tmpstr\n",
        "  \n",
        "print(torch_summarize(model))"
      ],
      "execution_count": 4,
      "outputs": [
        {
          "output_type": "stream",
          "text": [
            "Model size = 244.412854 MBs\n",
            "Total number of parameters before reducing class size: \n",
            "61100840\n",
            "AlexNet (\n",
            "  (features): Sequential (\n",
            "    (0): Conv2d(3, 64, kernel_size=(11, 11), stride=(4, 4), padding=(2, 2)), weights=((64, 3, 11, 11), (64,)), parameters=23296\n",
            "    (1): ReLU(inplace), weights=(), parameters=0\n",
            "    (2): MaxPool2d(kernel_size=3, stride=2, padding=0, dilation=1, ceil_mode=False), weights=(), parameters=0\n",
            "    (3): Conv2d(64, 192, kernel_size=(5, 5), stride=(1, 1), padding=(2, 2)), weights=((192, 64, 5, 5), (192,)), parameters=307392\n",
            "    (4): ReLU(inplace), weights=(), parameters=0\n",
            "    (5): MaxPool2d(kernel_size=3, stride=2, padding=0, dilation=1, ceil_mode=False), weights=(), parameters=0\n",
            "    (6): Conv2d(192, 384, kernel_size=(3, 3), stride=(1, 1), padding=(1, 1)), weights=((384, 192, 3, 3), (384,)), parameters=663936\n",
            "    (7): ReLU(inplace), weights=(), parameters=0\n",
            "    (8): Conv2d(384, 256, kernel_size=(3, 3), stride=(1, 1), padding=(1, 1)), weights=((256, 384, 3, 3), (256,)), parameters=884992\n",
            "    (9): ReLU(inplace), weights=(), parameters=0\n",
            "    (10): Conv2d(256, 256, kernel_size=(3, 3), stride=(1, 1), padding=(1, 1)), weights=((256, 256, 3, 3), (256,)), parameters=590080\n",
            "    (11): ReLU(inplace), weights=(), parameters=0\n",
            "    (12): MaxPool2d(kernel_size=3, stride=2, padding=0, dilation=1, ceil_mode=False), weights=(), parameters=0\n",
            "  ), weights=((64, 3, 11, 11), (64,), (192, 64, 5, 5), (192,), (384, 192, 3, 3), (384,), (256, 384, 3, 3), (256,), (256, 256, 3, 3), (256,)), parameters=2469696\n",
            "  (avgpool): AdaptiveAvgPool2d(output_size=(6, 6)), weights=(), parameters=0\n",
            "  (classifier): Sequential (\n",
            "    (0): Dropout(p=0.5), weights=(), parameters=0\n",
            "    (1): Linear(in_features=9216, out_features=4096, bias=True), weights=((4096, 9216), (4096,)), parameters=37752832\n",
            "    (2): ReLU(inplace), weights=(), parameters=0\n",
            "    (3): Dropout(p=0.5), weights=(), parameters=0\n",
            "    (4): Linear(in_features=4096, out_features=4096, bias=True), weights=((4096, 4096), (4096,)), parameters=16781312\n",
            "    (5): ReLU(inplace), weights=(), parameters=0\n",
            "    (6): Linear(in_features=4096, out_features=1000, bias=True), weights=((1000, 4096), (1000,)), parameters=4097000\n",
            "  ), weights=((4096, 9216), (4096,), (4096, 4096), (4096,), (1000, 4096), (1000,)), parameters=58631144\n",
            ")\n"
          ],
          "name": "stdout"
        }
      ]
    },
    {
      "metadata": {
        "id": "R6kVjm2SMUzt",
        "colab_type": "code",
        "outputId": "d3e5f957-1624-49cd-9de8-e0b867292c18",
        "colab": {
          "base_uri": "https://localhost:8080/",
          "height": 476
        }
      },
      "cell_type": "code",
      "source": [
        "print(model)"
      ],
      "execution_count": 5,
      "outputs": [
        {
          "output_type": "stream",
          "text": [
            "AlexNet(\n",
            "  (features): Sequential(\n",
            "    (0): Conv2d(3, 64, kernel_size=(11, 11), stride=(4, 4), padding=(2, 2))\n",
            "    (1): ReLU(inplace)\n",
            "    (2): MaxPool2d(kernel_size=3, stride=2, padding=0, dilation=1, ceil_mode=False)\n",
            "    (3): Conv2d(64, 192, kernel_size=(5, 5), stride=(1, 1), padding=(2, 2))\n",
            "    (4): ReLU(inplace)\n",
            "    (5): MaxPool2d(kernel_size=3, stride=2, padding=0, dilation=1, ceil_mode=False)\n",
            "    (6): Conv2d(192, 384, kernel_size=(3, 3), stride=(1, 1), padding=(1, 1))\n",
            "    (7): ReLU(inplace)\n",
            "    (8): Conv2d(384, 256, kernel_size=(3, 3), stride=(1, 1), padding=(1, 1))\n",
            "    (9): ReLU(inplace)\n",
            "    (10): Conv2d(256, 256, kernel_size=(3, 3), stride=(1, 1), padding=(1, 1))\n",
            "    (11): ReLU(inplace)\n",
            "    (12): MaxPool2d(kernel_size=3, stride=2, padding=0, dilation=1, ceil_mode=False)\n",
            "  )\n",
            "  (avgpool): AdaptiveAvgPool2d(output_size=(6, 6))\n",
            "  (classifier): Sequential(\n",
            "    (0): Dropout(p=0.5)\n",
            "    (1): Linear(in_features=9216, out_features=4096, bias=True)\n",
            "    (2): ReLU(inplace)\n",
            "    (3): Dropout(p=0.5)\n",
            "    (4): Linear(in_features=4096, out_features=4096, bias=True)\n",
            "    (5): ReLU(inplace)\n",
            "    (6): Linear(in_features=4096, out_features=1000, bias=True)\n",
            "  )\n",
            ")\n"
          ],
          "name": "stdout"
        }
      ]
    },
    {
      "metadata": {
        "id": "FVgvU4GlQOrt",
        "colab_type": "code",
        "colab": {}
      },
      "cell_type": "code",
      "source": [
        "from torch import nn\n",
        "# Adapt the classifier to our actual computatioons \n",
        "classifier = nn.Sequential(\n",
        "    nn.Dropout(p=0.5),\n",
        "    nn.Linear(in_features=9216, out_features=4096, bias=True),\n",
        "    nn.ReLU(),\n",
        "    nn.Dropout(p=0.5),\n",
        "    nn.Linear(in_features=4096, out_features=4096, bias=True),\n",
        "    nn.ReLU(),\n",
        "    nn.Linear(in_features=4096, out_features=10, bias=True)\n",
        ")\n",
        "#replace the model's classifier with this new classifier \n",
        "model.classifier = classifier"
      ],
      "execution_count": 0,
      "outputs": []
    },
    {
      "metadata": {
        "id": "C12Nx3zIRAoJ",
        "colab_type": "code",
        "outputId": "6e45c069-bdd6-46f8-9583-617fb5399c36",
        "colab": {
          "base_uri": "https://localhost:8080/",
          "height": 530
        }
      },
      "cell_type": "code",
      "source": [
        "print(\"Total number of parameters after reducing class size: \")\n",
        "print(get_n_params(model))\n",
        "\n",
        "print(torch_summarize(model))"
      ],
      "execution_count": 7,
      "outputs": [
        {
          "output_type": "stream",
          "text": [
            "Total number of parameters after reducing class size: \n",
            "57044810\n",
            "AlexNet (\n",
            "  (features): Sequential (\n",
            "    (0): Conv2d(3, 64, kernel_size=(11, 11), stride=(4, 4), padding=(2, 2)), weights=((64, 3, 11, 11), (64,)), parameters=23296\n",
            "    (1): ReLU(inplace), weights=(), parameters=0\n",
            "    (2): MaxPool2d(kernel_size=3, stride=2, padding=0, dilation=1, ceil_mode=False), weights=(), parameters=0\n",
            "    (3): Conv2d(64, 192, kernel_size=(5, 5), stride=(1, 1), padding=(2, 2)), weights=((192, 64, 5, 5), (192,)), parameters=307392\n",
            "    (4): ReLU(inplace), weights=(), parameters=0\n",
            "    (5): MaxPool2d(kernel_size=3, stride=2, padding=0, dilation=1, ceil_mode=False), weights=(), parameters=0\n",
            "    (6): Conv2d(192, 384, kernel_size=(3, 3), stride=(1, 1), padding=(1, 1)), weights=((384, 192, 3, 3), (384,)), parameters=663936\n",
            "    (7): ReLU(inplace), weights=(), parameters=0\n",
            "    (8): Conv2d(384, 256, kernel_size=(3, 3), stride=(1, 1), padding=(1, 1)), weights=((256, 384, 3, 3), (256,)), parameters=884992\n",
            "    (9): ReLU(inplace), weights=(), parameters=0\n",
            "    (10): Conv2d(256, 256, kernel_size=(3, 3), stride=(1, 1), padding=(1, 1)), weights=((256, 256, 3, 3), (256,)), parameters=590080\n",
            "    (11): ReLU(inplace), weights=(), parameters=0\n",
            "    (12): MaxPool2d(kernel_size=3, stride=2, padding=0, dilation=1, ceil_mode=False), weights=(), parameters=0\n",
            "  ), weights=((64, 3, 11, 11), (64,), (192, 64, 5, 5), (192,), (384, 192, 3, 3), (384,), (256, 384, 3, 3), (256,), (256, 256, 3, 3), (256,)), parameters=2469696\n",
            "  (avgpool): AdaptiveAvgPool2d(output_size=(6, 6)), weights=(), parameters=0\n",
            "  (classifier): Sequential (\n",
            "    (0): Dropout(p=0.5), weights=(), parameters=0\n",
            "    (1): Linear(in_features=9216, out_features=4096, bias=True), weights=((4096, 9216), (4096,)), parameters=37752832\n",
            "    (2): ReLU(), weights=(), parameters=0\n",
            "    (3): Dropout(p=0.5), weights=(), parameters=0\n",
            "    (4): Linear(in_features=4096, out_features=4096, bias=True), weights=((4096, 4096), (4096,)), parameters=16781312\n",
            "    (5): ReLU(), weights=(), parameters=0\n",
            "    (6): Linear(in_features=4096, out_features=10, bias=True), weights=((10, 4096), (10,)), parameters=40970\n",
            "  ), weights=((4096, 9216), (4096,), (4096, 4096), (4096,), (10, 4096), (10,)), parameters=54575114\n",
            ")\n"
          ],
          "name": "stdout"
        }
      ]
    },
    {
      "metadata": {
        "colab_type": "code",
        "id": "FNJMkhfKPSAI",
        "colab": {}
      },
      "cell_type": "code",
      "source": [
        "#import optimizer:\n",
        "from torch import optim\n",
        "criteria = nn.CrossEntropyLoss()\n",
        "optimizer = optim.SGD(model.parameters(), lr = 0.0004, momentum=0.9)"
      ],
      "execution_count": 0,
      "outputs": []
    },
    {
      "metadata": {
        "colab_type": "code",
        "id": "gSumLrfaPZZ6",
        "colab": {}
      },
      "cell_type": "code",
      "source": [
        "\n",
        "#define training function\n",
        "def train (model, loader, criterion, gpu):\n",
        "    model.train()\n",
        "    current_loss = 0\n",
        "    current_correct = 0\n",
        "    current_correct_5=0\n",
        "    for train, y_train in iter(loader):\n",
        "        if gpu:\n",
        "            train, y_train = train.to('cuda'), y_train.to('cuda')\n",
        "        optimizer.zero_grad()\n",
        "        output = model.forward(train)\n",
        "        _, preds = torch.max(output,1)#The most likelihood\n",
        "        _, preds_5=torch.topk(output, 5, largest=True, sorted=True)#Top-5 prediction\n",
        "        loss = criterion(output, y_train)\n",
        "        loss.backward()\n",
        "        optimizer.step()\n",
        "        current_loss += loss.item()*train.size(0)\n",
        "        current_correct += torch.sum(preds == y_train.data)\n",
        "        for i in range(100):\n",
        "            for j in preds_5[i]:\n",
        "                current_correct_5+=torch.sum(y_train.data[i]==j)\n",
        "        #print(output,preds,preds_5)\n",
        "        #check if the training is correct: \n",
        "        #print(preds,y_train,current_correct,current_loss)\n",
        "    epoch_loss = current_loss / len(loader)\n",
        "    # devide 4 because we read 4 data everytime\n",
        "    epoch_acc = current_correct.double() / len(loader)/100 # Top 1 accuracy\n",
        "    epoch_acc_5 = current_correct_5.double()/len(loader)/100 #Top 5 accuracy\n",
        "        \n",
        "    return epoch_loss, epoch_acc,epoch_acc_5"
      ],
      "execution_count": 0,
      "outputs": []
    },
    {
      "metadata": {
        "colab_type": "code",
        "id": "KVd48zETPc3V",
        "colab": {}
      },
      "cell_type": "code",
      "source": [
        "#define validation function\n",
        "def validation (model, loader, criterion, gpu):\n",
        "    model.eval()\n",
        "    valid_loss = 0\n",
        "    valid_correct = 0\n",
        "    valid_correct_5 = 0 #Top 5 accuracy\n",
        "    #I added this\n",
        "    pred=torch.zeros(len(loader))\n",
        "    for valid, y_valid in iter(loader):\n",
        "        if gpu:\n",
        "            valid, y_valid = valid.to('cuda'), y_valid.to('cuda')\n",
        "        output = model.forward(valid)\n",
        "        _, preds = torch.max(output,1)\n",
        "        _, preds_5=torch.topk(output, 5, largest=True, sorted=True)\n",
        "        valid_loss += criterion(output, y_valid).item()*valid.size(0)\n",
        "        valid_correct += torch.sum(preds == y_valid.data)\n",
        "        for i in range(100):\n",
        "            for j in preds_5[i]:\n",
        "                valid_correct_5+=torch.sum(y_valid.data[i]==j)\n",
        "    epoch_loss = valid_loss / len(loader)\n",
        "    epoch_acc = valid_correct.double() / len(loader)/100\n",
        "    epoch_acc_5 = valid_correct_5.double() / len(loader)/100\n",
        "    \n",
        "    return epoch_loss, epoch_acc,epoch_acc_5"
      ],
      "execution_count": 0,
      "outputs": []
    },
    {
      "metadata": {
        "colab_type": "code",
        "id": "PeVn5a0vPhJW",
        "colab": {}
      },
      "cell_type": "code",
      "source": [
        "#define test function\n",
        "def test (model, loader, criterion, gpu):\n",
        "    model.eval()\n",
        "    valid_loss = 0\n",
        "    valid_correct = 0\n",
        "    i=0\n",
        "    pred=torch.zeros(len(loader))\n",
        "    for test, y_train in iter(loader):\n",
        "        if gpu:\n",
        "            test = test.to('cuda')\n",
        "        output = model.forward(test)\n",
        "        _, preds = torch.max(output,1)\n",
        "        pred[i]=preds\n",
        "        i=i+1    \n",
        "    return pred"
      ],
      "execution_count": 0,
      "outputs": []
    },
    {
      "metadata": {
        "colab_type": "code",
        "id": "zgXlX7GTPmqb",
        "outputId": "98d89654-c4bd-49bb-c090-4e3eaaf38319",
        "colab": {
          "base_uri": "https://localhost:8080/",
          "height": 1309
        }
      },
      "cell_type": "code",
      "source": [
        "# training\n",
        "#send model to gpu. If not send it to GPU, delete next line.\n",
        "model.to('cuda')\n",
        "train_losses =[]\n",
        "train_acc =[]\n",
        "train_acc_5 =[]\n",
        "valid_losses=[]\n",
        "valid_acc =[]\n",
        "valid_acc_5 =[]\n",
        "#Initialize training params  \n",
        "#freeze gradient parameters in pretrained model\n",
        "for param in model.parameters():\n",
        "    param.require_grad = True\n",
        "# define number of epochs\n",
        "epochs = 15 \n",
        "epoch = 0\n",
        "import time\n",
        "start=time.time()\n",
        "for e in range(epochs):\n",
        "    start_train = time.time()\n",
        "    epoch +=1\n",
        "    print(epoch)\n",
        "#train:    \n",
        "    with torch.set_grad_enabled(True):\n",
        "        epoch_train_loss, epoch_train_acc, epoch_train_acc_5 = train(model,trainloader, criteria, 1)\n",
        "        #epoch_train_acc = train(model,trainloader, criteria, 1)\n",
        "        train_losses.append(epoch_train_loss)\n",
        "        train_acc.append(epoch_train_acc)\n",
        "        train_acc_5.append(epoch_train_acc_5)\n",
        "    print(\"Epoch: {} Train Loss : {:.4f}  Top1 Accuracy: {:.4f}  Top5 Accuracy: {:.4f}\".format(epoch,epoch_train_loss,epoch_train_acc,epoch_train_acc_5))\n",
        "    end_train=time.time()\n",
        "#Valid, Activate next code when validation result is needed:\n",
        "    with torch.no_grad():\n",
        "        epoch_val_loss, epoch_val_acc,epoch_val_acc_5 = validation(model, validloader, criteria, 1)\n",
        "        valid_losses.append(epoch_val_loss)\n",
        "        valid_acc.append(epoch_val_acc)\n",
        "        valid_acc_5.append(epoch_val_acc_5)\n",
        "    print(\"Epoch: {} Validation Loss : {:.4f}  Top 1 Validation Accuracy {:.4f} Top5 Validation Accuracy: {:.4f}\".format(epoch,epoch_val_loss,epoch_val_acc,epoch_val_acc_5))\n",
        "    end_valid = time.time()\n",
        "    print(\"Training time for Epoch {}: {:.4f}s\".format(epoch,end_train-start_train))\n",
        "    print(\"Validation time for Epoch {}: {:.4f}s\".format(epoch,end_valid-end_train))\n",
        "end=time.time()\n",
        "print(\"Total time for training and validation: {:.4f}s\".format(end-start))"
      ],
      "execution_count": 12,
      "outputs": [
        {
          "output_type": "stream",
          "text": [
            "1\n",
            "Epoch: 1 Train Loss : 230.2620  Top1 Accuracy: 0.1001  Top5 Accuracy: 0.4990\n",
            "Epoch: 1 Validation Loss : 230.2515  Top 1 Validation Accuracy 0.0937 Top5 Validation Accuracy: 0.5000\n",
            "Training time for Epoch 1: 262.6998s\n",
            "Validation time for Epoch 1: 45.0663s\n",
            "2\n",
            "Epoch: 2 Train Loss : 230.2470  Top1 Accuracy: 0.1085  Top5 Accuracy: 0.5022\n",
            "Epoch: 2 Validation Loss : 230.2337  Top 1 Validation Accuracy 0.1343 Top5 Validation Accuracy: 0.5000\n",
            "Training time for Epoch 2: 264.7770s\n",
            "Validation time for Epoch 2: 41.8784s\n",
            "3\n",
            "Epoch: 3 Train Loss : 230.2301  Top1 Accuracy: 0.1107  Top5 Accuracy: 0.5078\n",
            "Epoch: 3 Validation Loss : 230.2112  Top 1 Validation Accuracy 0.1353 Top5 Validation Accuracy: 0.5000\n",
            "Training time for Epoch 3: 265.2510s\n",
            "Validation time for Epoch 3: 44.9426s\n",
            "4\n",
            "Epoch: 4 Train Loss : 230.2073  Top1 Accuracy: 0.1146  Top5 Accuracy: 0.5172\n",
            "Epoch: 4 Validation Loss : 230.1786  Top 1 Validation Accuracy 0.1236 Top5 Validation Accuracy: 0.5032\n",
            "Training time for Epoch 4: 260.2581s\n",
            "Validation time for Epoch 4: 43.7319s\n",
            "5\n",
            "Epoch: 5 Train Loss : 230.1745  Top1 Accuracy: 0.1200  Top5 Accuracy: 0.5483\n",
            "Epoch: 5 Validation Loss : 230.1253  Top 1 Validation Accuracy 0.1137 Top5 Validation Accuracy: 0.6004\n",
            "Training time for Epoch 5: 259.0482s\n",
            "Validation time for Epoch 5: 44.6449s\n",
            "6\n",
            "Epoch: 6 Train Loss : 230.1145  Top1 Accuracy: 0.1255  Top5 Accuracy: 0.5548\n",
            "Epoch: 6 Validation Loss : 230.0221  Top 1 Validation Accuracy 0.1201 Top5 Validation Accuracy: 0.6187\n",
            "Training time for Epoch 6: 262.6463s\n",
            "Validation time for Epoch 6: 44.7473s\n",
            "7\n",
            "Epoch: 7 Train Loss : 229.9830  Top1 Accuracy: 0.1117  Top5 Accuracy: 0.5723\n",
            "Epoch: 7 Validation Loss : 229.7626  Top 1 Validation Accuracy 0.1216 Top5 Validation Accuracy: 0.5830\n",
            "Training time for Epoch 7: 264.0659s\n",
            "Validation time for Epoch 7: 44.9075s\n",
            "8\n",
            "Epoch: 8 Train Loss : 229.5193  Top1 Accuracy: 0.1111  Top5 Accuracy: 0.5441\n",
            "Epoch: 8 Validation Loss : 228.6291  Top 1 Validation Accuracy 0.1191 Top5 Validation Accuracy: 0.5470\n",
            "Training time for Epoch 8: 263.2652s\n",
            "Validation time for Epoch 8: 45.0298s\n",
            "9\n",
            "Epoch: 9 Train Loss : 226.3182  Top1 Accuracy: 0.1405  Top5 Accuracy: 0.5793\n",
            "Epoch: 9 Validation Loss : 216.8815  Top 1 Validation Accuracy 0.1993 Top5 Validation Accuracy: 0.7018\n",
            "Training time for Epoch 9: 263.9868s\n",
            "Validation time for Epoch 9: 44.7248s\n",
            "10\n",
            "Epoch: 10 Train Loss : 213.6371  Top1 Accuracy: 0.2200  Top5 Accuracy: 0.7189\n",
            "Epoch: 10 Validation Loss : 209.7780  Top 1 Validation Accuracy 0.2446 Top5 Validation Accuracy: 0.7413\n",
            "Training time for Epoch 10: 264.7189s\n",
            "Validation time for Epoch 10: 44.5600s\n",
            "11\n",
            "Epoch: 11 Train Loss : 208.3884  Top1 Accuracy: 0.2477  Top5 Accuracy: 0.7412\n",
            "Epoch: 11 Validation Loss : 208.2536  Top 1 Validation Accuracy 0.2545 Top5 Validation Accuracy: 0.7533\n",
            "Training time for Epoch 11: 263.0736s\n",
            "Validation time for Epoch 11: 44.3100s\n",
            "12\n",
            "Epoch: 12 Train Loss : 202.2723  Top1 Accuracy: 0.2682  Top5 Accuracy: 0.7651\n",
            "Epoch: 12 Validation Loss : 198.3202  Top 1 Validation Accuracy 0.2864 Top5 Validation Accuracy: 0.7853\n",
            "Training time for Epoch 12: 264.1587s\n",
            "Validation time for Epoch 12: 45.1350s\n",
            "13\n",
            "Epoch: 13 Train Loss : 192.9571  Top1 Accuracy: 0.2982  Top5 Accuracy: 0.8074\n",
            "Epoch: 13 Validation Loss : 187.3829  Top 1 Validation Accuracy 0.3206 Top5 Validation Accuracy: 0.8264\n",
            "Training time for Epoch 13: 265.7614s\n",
            "Validation time for Epoch 13: 45.8575s\n",
            "14\n",
            "Epoch: 14 Train Loss : 182.4798  Top1 Accuracy: 0.3335  Top5 Accuracy: 0.8450\n",
            "Epoch: 14 Validation Loss : 179.6268  Top 1 Validation Accuracy 0.3362 Top5 Validation Accuracy: 0.8608\n",
            "Training time for Epoch 14: 264.2860s\n",
            "Validation time for Epoch 14: 44.7465s\n",
            "15\n",
            "Epoch: 15 Train Loss : 172.7342  Top1 Accuracy: 0.3626  Top5 Accuracy: 0.8731\n",
            "Epoch: 15 Validation Loss : 171.0609  Top 1 Validation Accuracy 0.3767 Top5 Validation Accuracy: 0.8806\n",
            "Training time for Epoch 15: 265.1997s\n",
            "Validation time for Epoch 15: 45.0052s\n",
            "Total time for training and validation: 4622.4887s\n"
          ],
          "name": "stdout"
        }
      ]
    },
    {
      "metadata": {
        "colab_type": "code",
        "id": "m55HUEJOOAzb",
        "outputId": "bcab124d-9f90-4fae-9283-ae37345bca66",
        "colab": {
          "base_uri": "https://localhost:8080/",
          "height": 286
        }
      },
      "cell_type": "code",
      "source": [
        "#Plot training and validation losses\n",
        "import matplotlib.pyplot as plt\n",
        "import numpy as np\n",
        "plt.plot(train_losses, label='Training loss')\n",
        "plt.plot(valid_losses, label='Validation loss')\n",
        "plt.legend()"
      ],
      "execution_count": 13,
      "outputs": [
        {
          "output_type": "execute_result",
          "data": {
            "text/plain": [
              "<matplotlib.legend.Legend at 0x7f8c09f57d30>"
            ]
          },
          "metadata": {
            "tags": []
          },
          "execution_count": 13
        },
        {
          "output_type": "display_data",
          "data": {
            "image/png": "[encoded data removed]",
            "text/plain": [
              "<Figure size 432x288 with 1 Axes>"
            ]
          },
          "metadata": {
            "tags": []
          }
        }
      ]
    },
    {
      "metadata": {
        "colab_type": "code",
        "id": "Ieym9VY0TI-_",
        "outputId": "326cb3d0-fc84-4e3b-af89-c51c48466bd4",
        "colab": {
          "base_uri": "https://localhost:8080/",
          "height": 286
        }
      },
      "cell_type": "code",
      "source": [
        "#Plot training and validation accuracy\n",
        "plt.plot(train_acc, label='Training accuracy')\n",
        "plt.plot(valid_acc, label='Validation accuracy')\n",
        "plt.legend()"
      ],
      "execution_count": 14,
      "outputs": [
        {
          "output_type": "execute_result",
          "data": {
            "text/plain": [
              "<matplotlib.legend.Legend at 0x7f8c08e59358>"
            ]
          },
          "metadata": {
            "tags": []
          },
          "execution_count": 14
        },
        {
          "output_type": "display_data",
          "data": {
            "image/png": "[encoded data removed]",
            "text/plain": [
              "<Figure size 432x288 with 1 Axes>"
            ]
          },
          "metadata": {
            "tags": []
          }
        }
      ]
    },
    {
      "metadata": {
        "colab_type": "code",
        "id": "icl6jrEU0x9C",
        "outputId": "c97a7675-2988-46e4-c28e-4855c4147f93",
        "colab": {
          "base_uri": "https://localhost:8080/",
          "height": 372
        }
      },
      "cell_type": "code",
      "source": [
        "# for variety, lets use altair to do the plot\n",
        "import altair as alt\n",
        "\n",
        "# create a pandas dataframe for the loss\n",
        "df = pd.DataFrame({\n",
        "    'epoch': range(1, len(train_losses) + 1),\n",
        "    'train': train_losses,\n",
        "    'valid': valid_losses\n",
        "})\n",
        "\n",
        "# unpivot to have cols [epoch, dataset, loss]\n",
        "df = df.melt(id_vars=['epoch'],\n",
        "             value_vars=['train', 'valid'],\n",
        "             value_name='loss',\n",
        "             var_name='Dataset')\n",
        "\n",
        "# line plot with altair\n",
        "alt.Chart(df).mark_line(point=True)\\\n",
        "    .encode(x='epoch', y='loss', color='Dataset')\\\n",
        "    .interactive()"
      ],
      "execution_count": 15,
      "outputs": [
        {
          "output_type": "execute_result",
          "data": {
            "text/plain": [
              "Chart({\n",
              "  data:     epoch Dataset        loss\n",
              "  0       1   train  230.261976\n",
              "  1       2   train  230.246992\n",
              "  2       3   train  230.230117\n",
              "  3       4   train  230.207326\n",
              "  4       5   train  230.174462\n",
              "  5       6   train  230.114521\n",
              "  6       7   train  229.982983\n",
              "  7       8   train  229.519251\n",
              "  8       9   train  226.318203\n",
              "  9      10   train  213.637126\n",
              "  10     11   train  208.388371\n",
              "  11     12   train  202.272342\n",
              "  12     13   train  192.957087\n",
              "  13     14   train  182.479831\n",
              "  14     15   train  172.734170\n",
              "  15      1   valid  230.251510\n",
              "  16      2   valid  230.233731\n",
              "  17      3   valid  230.211205\n",
              "  18      4   valid  230.178552\n",
              "  19      5   valid  230.125317\n",
              "  20      6   valid  230.022117\n",
              "  21      7   valid  229.762596\n",
              "  22      8   valid  228.629140\n",
              "  23      9   valid  216.881459\n",
              "  24     10   valid  209.778030\n",
              "  25     11   valid  208.253649\n",
              "  26     12   valid  198.320201\n",
              "  27     13   valid  187.382883\n",
              "  28     14   valid  179.626839\n",
              "  29     15   valid  171.060862,\n",
              "  encoding: EncodingWithFacet({\n",
              "    color: Color({\n",
              "      shorthand: 'Dataset'\n",
              "    }),\n",
              "    x: X({\n",
              "      shorthand: 'epoch'\n",
              "    }),\n",
              "    y: Y({\n",
              "      shorthand: 'loss'\n",
              "    })\n",
              "  }),\n",
              "  mark: MarkDef({\n",
              "    point: True,\n",
              "    type: 'line'\n",
              "  }),\n",
              "  selection: SelectionMapping({\n",
              "    selector001: SelectionDef({\n",
              "      bind: 'scales',\n",
              "      encodings: ['x', 'y'],\n",
              "      type: 'interval'\n",
              "    })\n",
              "  })\n",
              "})"
            ],
            "text/html": [
              "<!DOCTYPE html>\n",
              "<html>\n",
              "<head>\n",
              "  <style>\n",
              "    .vega-actions a {\n",
              "        margin-right: 12px;\n",
              "        color: #757575;\n",
              "        font-weight: normal;\n",
              "        font-size: 13px;\n",
              "    }\n",
              "    .error {\n",
              "        color: red;\n",
              "    }\n",
              "  </style>\n",
              "  <script type=\"text/javascript\" src=\"https://cdn.jsdelivr.net/npm//vega@4\"></script>\n",
              "  <script type=\"text/javascript\" src=\"https://cdn.jsdelivr.net/npm//vega-lite@2.6.0\"></script>\n",
              "  <script type=\"text/javascript\" src=\"https://cdn.jsdelivr.net/npm//vega-embed@3\"></script>\n",
              "</head>\n",
              "<body>\n",
              "  <div id=\"altair-viz\"></div>\n",
              "  <script>\n",
              "      var spec = {\"config\": {\"view\": {\"width\": 400, \"height\": 300}}, \"data\": {\"name\": \"data-d38e032632eb98a5a6d8d4b449c403bc\"}, \"mark\": {\"type\": \"line\", \"point\": true}, \"encoding\": {\"color\": {\"type\": \"nominal\", \"field\": \"Dataset\"}, \"x\": {\"type\": \"quantitative\", \"field\": \"epoch\"}, \"y\": {\"type\": \"quantitative\", \"field\": \"loss\"}}, \"selection\": {\"selector001\": {\"type\": \"interval\", \"bind\": \"scales\", \"encodings\": [\"x\", \"y\"]}}, \"$schema\": \"https://vega.github.io/schema/vega-lite/v2.6.0.json\", \"datasets\": {\"data-d38e032632eb98a5a6d8d4b449c403bc\": [{\"epoch\": 1, \"Dataset\": \"train\", \"loss\": 230.26197643280028}, {\"epoch\": 2, \"Dataset\": \"train\", \"loss\": 230.24699201583863}, {\"epoch\": 3, \"Dataset\": \"train\", \"loss\": 230.23011693954467}, {\"epoch\": 4, \"Dataset\": \"train\", \"loss\": 230.20732612609862}, {\"epoch\": 5, \"Dataset\": \"train\", \"loss\": 230.17446236610414}, {\"epoch\": 6, \"Dataset\": \"train\", \"loss\": 230.1145205974579}, {\"epoch\": 7, \"Dataset\": \"train\", \"loss\": 229.98298335075378}, {\"epoch\": 8, \"Dataset\": \"train\", \"loss\": 229.51925134658813}, {\"epoch\": 9, \"Dataset\": \"train\", \"loss\": 226.31820330619811}, {\"epoch\": 10, \"Dataset\": \"train\", \"loss\": 213.63712582588195}, {\"epoch\": 11, \"Dataset\": \"train\", \"loss\": 208.38837053775788}, {\"epoch\": 12, \"Dataset\": \"train\", \"loss\": 202.2723415374756}, {\"epoch\": 13, \"Dataset\": \"train\", \"loss\": 192.9570867061615}, {\"epoch\": 14, \"Dataset\": \"train\", \"loss\": 182.47983078956605}, {\"epoch\": 15, \"Dataset\": \"train\", \"loss\": 172.73417031764984}, {\"epoch\": 1, \"Dataset\": \"valid\", \"loss\": 230.2515103816986}, {\"epoch\": 2, \"Dataset\": \"valid\", \"loss\": 230.23373126983643}, {\"epoch\": 3, \"Dataset\": \"valid\", \"loss\": 230.2112054824829}, {\"epoch\": 4, \"Dataset\": \"valid\", \"loss\": 230.17855215072632}, {\"epoch\": 5, \"Dataset\": \"valid\", \"loss\": 230.12531661987305}, {\"epoch\": 6, \"Dataset\": \"valid\", \"loss\": 230.02211689949036}, {\"epoch\": 7, \"Dataset\": \"valid\", \"loss\": 229.76259636878967}, {\"epoch\": 8, \"Dataset\": \"valid\", \"loss\": 228.62913966178894}, {\"epoch\": 9, \"Dataset\": \"valid\", \"loss\": 216.88145899772644}, {\"epoch\": 10, \"Dataset\": \"valid\", \"loss\": 209.77803003787994}, {\"epoch\": 11, \"Dataset\": \"valid\", \"loss\": 208.25364887714386}, {\"epoch\": 12, \"Dataset\": \"valid\", \"loss\": 198.3202006816864}, {\"epoch\": 13, \"Dataset\": \"valid\", \"loss\": 187.382883310318}, {\"epoch\": 14, \"Dataset\": \"valid\", \"loss\": 179.6268390417099}, {\"epoch\": 15, \"Dataset\": \"valid\", \"loss\": 171.06086242198944}]}};\n",
              "      var embedOpt = {\"mode\": \"vega-lite\"};\n",
              "\n",
              "      function showError(el, error){\n",
              "          el.innerHTML = ('<div class=\"error\" style=\"color:red;\">'\n",
              "                          + '<p>JavaScript Error: ' + error.message + '</p>'\n",
              "                          + \"<p>This usually means there's a typo in your chart specification. \"\n",
              "                          + \"See the javascript console for the full traceback.</p>\"\n",
              "                          + '</div>');\n",
              "          throw error;\n",
              "      }\n",
              "      const el = document.getElementById('altair-viz');\n",
              "      vegaEmbed(\"#altair-viz\", spec, embedOpt)\n",
              "        .catch(error => showError(el, error));\n",
              "\n",
              "  </script>\n",
              "</body>\n",
              "</html>"
            ]
          },
          "metadata": {
            "tags": []
          },
          "execution_count": 15
        }
      ]
    }
  ]
}