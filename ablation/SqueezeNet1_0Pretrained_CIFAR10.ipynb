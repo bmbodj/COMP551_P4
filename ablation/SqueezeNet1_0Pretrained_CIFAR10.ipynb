{
  "nbformat": 4,
  "nbformat_minor": 0,
  "metadata": {
    "colab": {
      "name": "SqueezeNet1.0Pretrained_CIFAR10.ipynb",
      "version": "0.3.2",
      "provenance": []
    },
    "kernelspec": {
      "name": "python3",
      "display_name": "Python 3"
    },
    "accelerator": "GPU"
  },
  "cells": [
    {
      "metadata": {
        "id": "MUZigEfrS1O_",
        "colab_type": "code",
        "colab": {}
      },
      "cell_type": "code",
      "source": [
        "import pandas as pd\n",
        "import torch\n",
        "import torchvision\n",
        "from PIL import Image\n",
        "import torchvision.transforms as transforms\n",
        "import numpy as np\n",
        "from torch.utils.data import DataLoader, Dataset, TensorDataset"
      ],
      "execution_count": 0,
      "outputs": []
    },
    {
      "metadata": {
        "id": "7jv_3_KWS6jE",
        "colab_type": "code",
        "colab": {
          "base_uri": "https://localhost:8080/",
          "height": 34
        },
        "outputId": "4c711bb6-0c07-4a65-d130-6225019edd53"
      },
      "cell_type": "code",
      "source": [
        "# Load the Drive helper and mount for colab\n",
        "from google.colab import drive\n",
        "\n",
        "# This will prompt for authorization.\n",
        "drive.mount('/content/drive')"
      ],
      "execution_count": 63,
      "outputs": [
        {
          "output_type": "stream",
          "text": [
            "Drive already mounted at /content/drive; to attempt to forcibly remount, call drive.mount(\"/content/drive\", force_remount=True).\n"
          ],
          "name": "stdout"
        }
      ]
    },
    {
      "metadata": {
        "id": "GWl9wRjqS8ek",
        "colab_type": "code",
        "colab": {
          "base_uri": "https://localhost:8080/",
          "height": 51
        },
        "outputId": "50c3b581-4237-4dd4-faf6-57cf286b6183"
      },
      "cell_type": "code",
      "source": [
        "training_dataset = torchvision.datasets.CIFAR10(root='./data', train=True, download=True, transform=transforms.Compose([\n",
        "                       transforms.RandomHorizontalFlip(),\n",
        "                       transforms.ToTensor(),\n",
        "                       transforms.Normalize((0.491399689874, 0.482158419622, 0.446530924224), (0.247032237587, 0.243485133253, 0.261587846975))\n",
        "                   ]))\n",
        "validation_dataset = torchvision.datasets.CIFAR10(root='./data', train=False, download=True, transform=transforms.Compose([\n",
        "                       transforms.RandomHorizontalFlip(),\n",
        "                       transforms.ToTensor(),\n",
        "                       transforms.Normalize((0.491399689874, 0.482158419622, 0.446530924224), (0.247032237587, 0.243485133253, 0.261587846975))\n",
        "                   ]))\n",
        "\n",
        "trainloader = torch.utils.data.DataLoader(training_dataset, batch_size=100, shuffle=True,num_workers=2)\n",
        "validloader = torch.utils.data.DataLoader(validation_dataset, batch_size =100, shuffle=False,num_workers=2)"
      ],
      "execution_count": 64,
      "outputs": [
        {
          "output_type": "stream",
          "text": [
            "Files already downloaded and verified\n",
            "Files already downloaded and verified\n"
          ],
          "name": "stdout"
        }
      ]
    },
    {
      "metadata": {
        "id": "FHSXMC3-Uhrv",
        "colab_type": "text"
      },
      "cell_type": "markdown",
      "source": [
        ""
      ]
    },
    {
      "metadata": {
        "id": "mNbB_QloUi0z",
        "colab_type": "code",
        "colab": {}
      },
      "cell_type": "code",
      "source": [
        "#*********************************************************************\n",
        "# model part\n",
        "import torchvision.models as models\n",
        "# use pretrained model:\n",
        "model = models.squeezenet1_0(pretrained = True)\n",
        "#import OrderedDicted to corectly align the network layers"
      ],
      "execution_count": 0,
      "outputs": []
    },
    {
      "metadata": {
        "id": "5v35bmRIWBlH",
        "colab_type": "code",
        "colab": {
          "base_uri": "https://localhost:8080/",
          "height": 1360
        },
        "outputId": "de0c1197-899f-4119-c772-4dbe01b9098c"
      },
      "cell_type": "code",
      "source": [
        "#import nn to modify features\n",
        "from collections import OrderedDict\n",
        "from torch import nn\n",
        "#create classifier which fit our num of outputs\n",
        "\n",
        "classifier = nn.Sequential(\n",
        "    nn.Dropout(p=0.5),\n",
        "    nn.Conv2d(512, 10, kernel_size=1),\n",
        "    nn.ReLU(inplace=True),\n",
        "    nn.AvgPool2d(1)\n",
        ")\n",
        "#replace the model's classifier with this new classifier \n",
        "model.classifier = classifier\n",
        "model.forward = lambda x: model.classifier(model.features(x)).view(x.size(0), 10)\n",
        "print(model)"
      ],
      "execution_count": 73,
      "outputs": [
        {
          "output_type": "stream",
          "text": [
            "SqueezeNet(\n",
            "  (features): Sequential(\n",
            "    (0): Conv2d(3, 96, kernel_size=(7, 7), stride=(2, 2))\n",
            "    (1): ReLU(inplace)\n",
            "    (2): MaxPool2d(kernel_size=3, stride=2, padding=0, dilation=1, ceil_mode=True)\n",
            "    (3): Fire(\n",
            "      (squeeze): Conv2d(96, 16, kernel_size=(1, 1), stride=(1, 1))\n",
            "      (squeeze_activation): ReLU(inplace)\n",
            "      (expand1x1): Conv2d(16, 64, kernel_size=(1, 1), stride=(1, 1))\n",
            "      (expand1x1_activation): ReLU(inplace)\n",
            "      (expand3x3): Conv2d(16, 64, kernel_size=(3, 3), stride=(1, 1), padding=(1, 1))\n",
            "      (expand3x3_activation): ReLU(inplace)\n",
            "    )\n",
            "    (4): Fire(\n",
            "      (squeeze): Conv2d(128, 16, kernel_size=(1, 1), stride=(1, 1))\n",
            "      (squeeze_activation): ReLU(inplace)\n",
            "      (expand1x1): Conv2d(16, 64, kernel_size=(1, 1), stride=(1, 1))\n",
            "      (expand1x1_activation): ReLU(inplace)\n",
            "      (expand3x3): Conv2d(16, 64, kernel_size=(3, 3), stride=(1, 1), padding=(1, 1))\n",
            "      (expand3x3_activation): ReLU(inplace)\n",
            "    )\n",
            "    (5): Fire(\n",
            "      (squeeze): Conv2d(128, 32, kernel_size=(1, 1), stride=(1, 1))\n",
            "      (squeeze_activation): ReLU(inplace)\n",
            "      (expand1x1): Conv2d(32, 128, kernel_size=(1, 1), stride=(1, 1))\n",
            "      (expand1x1_activation): ReLU(inplace)\n",
            "      (expand3x3): Conv2d(32, 128, kernel_size=(3, 3), stride=(1, 1), padding=(1, 1))\n",
            "      (expand3x3_activation): ReLU(inplace)\n",
            "    )\n",
            "    (6): MaxPool2d(kernel_size=3, stride=2, padding=0, dilation=1, ceil_mode=True)\n",
            "    (7): Fire(\n",
            "      (squeeze): Conv2d(256, 32, kernel_size=(1, 1), stride=(1, 1))\n",
            "      (squeeze_activation): ReLU(inplace)\n",
            "      (expand1x1): Conv2d(32, 128, kernel_size=(1, 1), stride=(1, 1))\n",
            "      (expand1x1_activation): ReLU(inplace)\n",
            "      (expand3x3): Conv2d(32, 128, kernel_size=(3, 3), stride=(1, 1), padding=(1, 1))\n",
            "      (expand3x3_activation): ReLU(inplace)\n",
            "    )\n",
            "    (8): Fire(\n",
            "      (squeeze): Conv2d(256, 48, kernel_size=(1, 1), stride=(1, 1))\n",
            "      (squeeze_activation): ReLU(inplace)\n",
            "      (expand1x1): Conv2d(48, 192, kernel_size=(1, 1), stride=(1, 1))\n",
            "      (expand1x1_activation): ReLU(inplace)\n",
            "      (expand3x3): Conv2d(48, 192, kernel_size=(3, 3), stride=(1, 1), padding=(1, 1))\n",
            "      (expand3x3_activation): ReLU(inplace)\n",
            "    )\n",
            "    (9): Fire(\n",
            "      (squeeze): Conv2d(384, 48, kernel_size=(1, 1), stride=(1, 1))\n",
            "      (squeeze_activation): ReLU(inplace)\n",
            "      (expand1x1): Conv2d(48, 192, kernel_size=(1, 1), stride=(1, 1))\n",
            "      (expand1x1_activation): ReLU(inplace)\n",
            "      (expand3x3): Conv2d(48, 192, kernel_size=(3, 3), stride=(1, 1), padding=(1, 1))\n",
            "      (expand3x3_activation): ReLU(inplace)\n",
            "    )\n",
            "    (10): Fire(\n",
            "      (squeeze): Conv2d(384, 64, kernel_size=(1, 1), stride=(1, 1))\n",
            "      (squeeze_activation): ReLU(inplace)\n",
            "      (expand1x1): Conv2d(64, 256, kernel_size=(1, 1), stride=(1, 1))\n",
            "      (expand1x1_activation): ReLU(inplace)\n",
            "      (expand3x3): Conv2d(64, 256, kernel_size=(3, 3), stride=(1, 1), padding=(1, 1))\n",
            "      (expand3x3_activation): ReLU(inplace)\n",
            "    )\n",
            "    (11): MaxPool2d(kernel_size=3, stride=2, padding=0, dilation=1, ceil_mode=True)\n",
            "    (12): Fire(\n",
            "      (squeeze): Conv2d(512, 64, kernel_size=(1, 1), stride=(1, 1))\n",
            "      (squeeze_activation): ReLU(inplace)\n",
            "      (expand1x1): Conv2d(64, 256, kernel_size=(1, 1), stride=(1, 1))\n",
            "      (expand1x1_activation): ReLU(inplace)\n",
            "      (expand3x3): Conv2d(64, 256, kernel_size=(3, 3), stride=(1, 1), padding=(1, 1))\n",
            "      (expand3x3_activation): ReLU(inplace)\n",
            "    )\n",
            "  )\n",
            "  (classifier): Sequential(\n",
            "    (0): Dropout(p=0.5)\n",
            "    (1): Conv2d(512, 10, kernel_size=(1, 1), stride=(1, 1))\n",
            "    (2): ReLU(inplace)\n",
            "    (3): AvgPool2d(kernel_size=1, stride=1, padding=0)\n",
            "  )\n",
            ")\n"
          ],
          "name": "stdout"
        }
      ]
    },
    {
      "metadata": {
        "id": "izji0K7xVC1Q",
        "colab_type": "code",
        "colab": {}
      },
      "cell_type": "code",
      "source": [
        "#import optimizer:\n",
        "from torch import optim\n",
        "#define criteria and optimizer\n",
        "# Note that other losses or optimizers can also be tried\n",
        "criteria = nn.CrossEntropyLoss()\n",
        "optimizer = optim.SGD(model.parameters(), lr = 0.0003, momentum=0.9)"
      ],
      "execution_count": 0,
      "outputs": []
    },
    {
      "metadata": {
        "id": "hnPCuacuVfVC",
        "colab_type": "code",
        "colab": {}
      },
      "cell_type": "code",
      "source": [
        "#train model\n",
        "#define training function\n",
        "def train (model, loader, criterion, gpu):\n",
        "    model.train()\n",
        "    current_loss = 0\n",
        "    current_correct = 0\n",
        "    current_correct_5=0\n",
        "    for train, y_train in iter(loader):\n",
        "        if gpu:\n",
        "            train, y_train = train.to('cuda'), y_train.to('cuda')\n",
        "        optimizer.zero_grad()\n",
        "        output = model.forward(train)\n",
        "        _, preds = torch.max(output,1)#The most likelihood\n",
        "        _, preds_5=torch.topk(output, 5, largest=True, sorted=True)#Top-5 prediction\n",
        "        loss = criterion(output, y_train)\n",
        "        loss.backward()\n",
        "        optimizer.step()\n",
        "        current_loss += loss.item()*train.size(0)\n",
        "        current_correct += torch.sum(preds == y_train.data)\n",
        "        for i in range(100):\n",
        "            for j in preds_5[i]:\n",
        "                current_correct_5+=torch.sum(y_train.data[i]==j)\n",
        "        #print(output,preds,preds_5)\n",
        "        #check if the training is correct: \n",
        "        #print(preds,y_train,current_correct,current_loss)\n",
        "    epoch_loss = current_loss / len(loader)\n",
        "    # devide 4 because we read 4 data everytime\n",
        "    epoch_acc = current_correct.double() / len(loader)/100 # Top 1 accuracy\n",
        "    epoch_acc_5 = current_correct_5.double()/len(loader)/100 #Top 5 accuracy\n",
        "        \n",
        "    return epoch_loss, epoch_acc,epoch_acc_5"
      ],
      "execution_count": 0,
      "outputs": []
    },
    {
      "metadata": {
        "id": "z0gntjz1Vh2T",
        "colab_type": "code",
        "colab": {}
      },
      "cell_type": "code",
      "source": [
        "#define validation function\n",
        "def validation (model, loader, criterion, gpu):\n",
        "    model.eval()\n",
        "    valid_loss = 0\n",
        "    valid_correct = 0\n",
        "    valid_correct_5 = 0 #Top 5 accuracy\n",
        "    #I added this\n",
        "    pred=torch.zeros(len(loader))\n",
        "    for valid, y_valid in iter(loader):\n",
        "        if gpu:\n",
        "            valid, y_valid = valid.to('cuda'), y_valid.to('cuda')\n",
        "        output = model.forward(valid)\n",
        "        _, preds = torch.max(output,1)\n",
        "        _, preds_5=torch.topk(output, 5, largest=True, sorted=True)\n",
        "        valid_loss += criterion(output, y_valid).item()*valid.size(0)\n",
        "        valid_correct += torch.sum(preds == y_valid.data)\n",
        "        for i in range(100):\n",
        "            for j in preds_5[i]:\n",
        "                valid_correct_5+=torch.sum(y_valid.data[i]==j)\n",
        "    epoch_loss = valid_loss / len(loader)\n",
        "    epoch_acc = valid_correct.double() / len(loader)/100\n",
        "    epoch_acc_5 = valid_correct_5.double() / len(loader)/100\n",
        "    \n",
        "    return epoch_loss, epoch_acc,epoch_acc_5"
      ],
      "execution_count": 0,
      "outputs": []
    },
    {
      "metadata": {
        "id": "i7ej1Fy3VnQD",
        "colab_type": "code",
        "colab": {}
      },
      "cell_type": "code",
      "source": [
        "#define test function\n",
        "def test (model, loader, criterion, gpu):\n",
        "    model.eval()\n",
        "    valid_loss = 0\n",
        "    valid_correct = 0\n",
        "    i=0\n",
        "    pred=torch.zeros(len(loader))\n",
        "    for test, y_train in iter(loader):\n",
        "        if gpu:\n",
        "            test = test.to('cuda')\n",
        "        output = model.forward(test)\n",
        "        _, preds = torch.max(output,1)\n",
        "        pred[i]=preds\n",
        "        i=i+1    \n",
        "    return pred"
      ],
      "execution_count": 0,
      "outputs": []
    },
    {
      "metadata": {
        "id": "e1217CztWPt7",
        "colab_type": "code",
        "colab": {
          "base_uri": "https://localhost:8080/",
          "height": 1394
        },
        "outputId": "65ae3401-485d-4d78-ab0e-158fd56989be"
      },
      "cell_type": "code",
      "source": [
        "# training\n",
        "#send model to gpu. If not send it to GPU, delete next line.\n",
        "model.to('cuda')\n",
        "train_losses =[]\n",
        "train_acc =[]\n",
        "train_acc_5 =[]\n",
        "valid_losses=[]\n",
        "valid_acc =[]\n",
        "valid_acc_5 =[]\n",
        "#Initialize training params  \n",
        "#freeze gradient parameters in pretrained model\n",
        "for param in model.parameters():\n",
        "    param.require_grad = False\n",
        "# define number of epochs\n",
        "epochs = 16 \n",
        "epoch = 0\n",
        "import time\n",
        "start=time.time()\n",
        "for e in range(epochs):\n",
        "    start_train = time.time()\n",
        "    epoch +=1\n",
        "    print(epoch)\n",
        "#train:    \n",
        "    with torch.set_grad_enabled(True):\n",
        "        epoch_train_loss, epoch_train_acc, epoch_train_acc_5 = train(model,trainloader, criteria, 1)\n",
        "        #epoch_train_acc = train(model,trainloader, criteria, 1)\n",
        "        train_losses.append(epoch_train_loss)\n",
        "        train_acc.append(epoch_train_acc)\n",
        "        train_acc_5.append(epoch_train_acc_5)\n",
        "    print(\"Epoch: {} Train Loss : {:.4f}  Top1 Accuracy: {:.4f}  Top5 Accuracy: {:.4f}\".format(epoch,epoch_train_loss,epoch_train_acc,epoch_train_acc_5))\n",
        "    end_train=time.time()\n",
        "#Valid, Activate next code when validation result is needed:\n",
        "    with torch.no_grad():\n",
        "        epoch_val_loss, epoch_val_acc,epoch_val_acc_5 = validation(model, validloader, criteria, 1)\n",
        "        valid_losses.append(epoch_val_loss)\n",
        "        valid_acc.append(epoch_val_acc)\n",
        "        valid_acc_5.append(epoch_val_acc_5)\n",
        "    print(\"Epoch: {} Validation Loss : {:.4f}  Top 1 Validation Accuracy {:.4f} Top5 Validation Accuracy: {:.4f}\".format(epoch,epoch_val_loss,epoch_val_acc,epoch_val_acc_5))\n",
        "    end_valid = time.time()\n",
        "    print(\"Training time for Epoch {}: {:.4f}s\".format(epoch,end_train-start_train))\n",
        "    print(\"Validation time for Epoch {}: {:.4f}s\".format(epoch,end_valid-end_train))\n",
        "end=time.time()\n",
        "print(\"Total time for training and validation: {:.4f}s\".format(end-start))    "
      ],
      "execution_count": 79,
      "outputs": [
        {
          "output_type": "stream",
          "text": [
            "1\n",
            "Epoch: 1 Train Loss : 233.2436  Top1 Accuracy: 0.1267  Top5 Accuracy: 0.5371\n",
            "Epoch: 1 Validation Loss : 222.7960  Top 1 Validation Accuracy 0.1609 Top5 Validation Accuracy: 0.5871\n",
            "Training time for Epoch 1: 39.7938s\n",
            "Validation time for Epoch 1: 6.7217s\n",
            "2\n",
            "Epoch: 2 Train Loss : 210.5909  Top1 Accuracy: 0.2441  Top5 Accuracy: 0.6577\n",
            "Epoch: 2 Validation Loss : 189.7649  Top 1 Validation Accuracy 0.3786 Top5 Validation Accuracy: 0.7386\n",
            "Training time for Epoch 2: 39.8129s\n",
            "Validation time for Epoch 2: 6.5826s\n",
            "3\n",
            "Epoch: 3 Train Loss : 187.7675  Top1 Accuracy: 0.3744  Top5 Accuracy: 0.7470\n",
            "Epoch: 3 Validation Loss : 174.4508  Top 1 Validation Accuracy 0.4287 Top5 Validation Accuracy: 0.7786\n",
            "Training time for Epoch 3: 40.2446s\n",
            "Validation time for Epoch 3: 6.6775s\n",
            "4\n",
            "Epoch: 4 Train Loss : 162.3308  Top1 Accuracy: 0.4539  Top5 Accuracy: 0.8382\n",
            "Epoch: 4 Validation Loss : 125.5858  Top 1 Validation Accuracy 0.5645 Top5 Validation Accuracy: 0.9447\n",
            "Training time for Epoch 4: 41.1143s\n",
            "Validation time for Epoch 4: 6.6311s\n",
            "5\n",
            "Epoch: 5 Train Loss : 130.2043  Top1 Accuracy: 0.5494  Top5 Accuracy: 0.9393\n",
            "Epoch: 5 Validation Loss : 110.1890  Top 1 Validation Accuracy 0.6140 Top5 Validation Accuracy: 0.9570\n",
            "Training time for Epoch 5: 40.7158s\n",
            "Validation time for Epoch 5: 6.8044s\n",
            "6\n",
            "Epoch: 6 Train Loss : 117.9573  Top1 Accuracy: 0.5943  Top5 Accuracy: 0.9546\n",
            "Epoch: 6 Validation Loss : 101.5490  Top 1 Validation Accuracy 0.6466 Top5 Validation Accuracy: 0.9642\n",
            "Training time for Epoch 6: 39.9830s\n",
            "Validation time for Epoch 6: 6.6435s\n",
            "7\n",
            "Epoch: 7 Train Loss : 109.2874  Top1 Accuracy: 0.6248  Top5 Accuracy: 0.9602\n",
            "Epoch: 7 Validation Loss : 97.5627  Top 1 Validation Accuracy 0.6601 Top5 Validation Accuracy: 0.9681\n",
            "Training time for Epoch 7: 39.6989s\n",
            "Validation time for Epoch 7: 6.6038s\n",
            "8\n",
            "Epoch: 8 Train Loss : 103.7650  Top1 Accuracy: 0.6453  Top5 Accuracy: 0.9647\n",
            "Epoch: 8 Validation Loss : 93.0968  Top 1 Validation Accuracy 0.6807 Top5 Validation Accuracy: 0.9696\n",
            "Training time for Epoch 8: 39.8411s\n",
            "Validation time for Epoch 8: 6.5256s\n",
            "9\n",
            "Epoch: 9 Train Loss : 98.8963  Top1 Accuracy: 0.6620  Top5 Accuracy: 0.9675\n",
            "Epoch: 9 Validation Loss : 90.7728  Top 1 Validation Accuracy 0.6871 Top5 Validation Accuracy: 0.9709\n",
            "Training time for Epoch 9: 39.7414s\n",
            "Validation time for Epoch 9: 6.6029s\n",
            "10\n",
            "Epoch: 10 Train Loss : 95.3644  Top1 Accuracy: 0.6780  Top5 Accuracy: 0.9694\n",
            "Epoch: 10 Validation Loss : 89.8421  Top 1 Validation Accuracy 0.6912 Top5 Validation Accuracy: 0.9730\n",
            "Training time for Epoch 10: 39.8999s\n",
            "Validation time for Epoch 10: 6.5869s\n",
            "11\n",
            "Epoch: 11 Train Loss : 91.6244  Top1 Accuracy: 0.6889  Top5 Accuracy: 0.9708\n",
            "Epoch: 11 Validation Loss : 86.4946  Top 1 Validation Accuracy 0.7012 Top5 Validation Accuracy: 0.9736\n",
            "Training time for Epoch 11: 39.6238s\n",
            "Validation time for Epoch 11: 6.6064s\n",
            "12\n",
            "Epoch: 12 Train Loss : 88.7049  Top1 Accuracy: 0.7023  Top5 Accuracy: 0.9724\n",
            "Epoch: 12 Validation Loss : 83.9948  Top 1 Validation Accuracy 0.7085 Top5 Validation Accuracy: 0.9758\n",
            "Training time for Epoch 12: 40.5153s\n",
            "Validation time for Epoch 12: 6.5794s\n",
            "13\n",
            "Epoch: 13 Train Loss : 86.3005  Top1 Accuracy: 0.7104  Top5 Accuracy: 0.9751\n",
            "Epoch: 13 Validation Loss : 83.4562  Top 1 Validation Accuracy 0.7142 Top5 Validation Accuracy: 0.9758\n",
            "Training time for Epoch 13: 40.3081s\n",
            "Validation time for Epoch 13: 6.6180s\n",
            "14\n",
            "Epoch: 14 Train Loss : 83.8150  Top1 Accuracy: 0.7183  Top5 Accuracy: 0.9754\n",
            "Epoch: 14 Validation Loss : 81.5197  Top 1 Validation Accuracy 0.7174 Top5 Validation Accuracy: 0.9783\n",
            "Training time for Epoch 14: 39.8150s\n",
            "Validation time for Epoch 14: 6.6400s\n",
            "15\n",
            "Epoch: 15 Train Loss : 82.1308  Top1 Accuracy: 0.7244  Top5 Accuracy: 0.9774\n",
            "Epoch: 15 Validation Loss : 80.1170  Top 1 Validation Accuracy 0.7224 Top5 Validation Accuracy: 0.9773\n",
            "Training time for Epoch 15: 40.1069s\n",
            "Validation time for Epoch 15: 6.5779s\n",
            "16\n",
            "Epoch: 16 Train Loss : 80.0734  Top1 Accuracy: 0.7308  Top5 Accuracy: 0.9795\n",
            "Epoch: 16 Validation Loss : 80.2321  Top 1 Validation Accuracy 0.7269 Top5 Validation Accuracy: 0.9768\n",
            "Training time for Epoch 16: 39.6789s\n",
            "Validation time for Epoch 16: 6.6158s\n",
            "Total time for training and validation: 746.9153s\n"
          ],
          "name": "stdout"
        }
      ]
    },
    {
      "metadata": {
        "id": "x5daYQw6WcK9",
        "colab_type": "code",
        "colab": {
          "base_uri": "https://localhost:8080/",
          "height": 366
        },
        "outputId": "e35bd10d-da44-43af-f64a-b26675b98ab5"
      },
      "cell_type": "code",
      "source": [
        "#Plot training and validation losses\n",
        "import matplotlib.pyplot as plt\n",
        "import numpy as np\n",
        "plt.plot(train_losses, label='Training loss')\n",
        "plt.plot(valid_losses, label='Validation loss')\n",
        "plt.legend()"
      ],
      "execution_count": 80,
      "outputs": [
        {
          "output_type": "execute_result",
          "data": {
            "text/plain": [
              "<matplotlib.legend.Legend at 0x7f13b8851dd8>"
            ]
          },
          "metadata": {
            "tags": []
          },
          "execution_count": 80
        },
        {
          "output_type": "display_data",
          "data": {
            "image/png": "[encoded data removed]",
            "text/plain": [
              "<Figure size 576x396 with 1 Axes>"
            ]
          },
          "metadata": {
            "tags": []
          }
        }
      ]
    },
    {
      "metadata": {
        "id": "6f5_TRrrWewf",
        "colab_type": "code",
        "colab": {
          "base_uri": "https://localhost:8080/",
          "height": 364
        },
        "outputId": "8bec6592-fa22-4b64-9bd3-e3a540ed21a8"
      },
      "cell_type": "code",
      "source": [
        "#Plot training and validation accuracy\n",
        "plt.plot(train_acc, label='Training accuracy')\n",
        "plt.plot(valid_acc, label='Validation accuracy')\n",
        "plt.legend()"
      ],
      "execution_count": 81,
      "outputs": [
        {
          "output_type": "execute_result",
          "data": {
            "text/plain": [
              "<matplotlib.legend.Legend at 0x7f13b8a87898>"
            ]
          },
          "metadata": {
            "tags": []
          },
          "execution_count": 81
        },
        {
          "output_type": "display_data",
          "data": {
            "image/png": "[encoded data removed]",
            "text/plain": [
              "<Figure size 576x396 with 1 Axes>"
            ]
          },
          "metadata": {
            "tags": []
          }
        }
      ]
    },
    {
      "metadata": {
        "id": "6W0GthhAWg7m",
        "colab_type": "code",
        "colab": {
          "base_uri": "https://localhost:8080/",
          "height": 372
        },
        "outputId": "5a48a45e-762b-437f-b32b-fd07a2446502"
      },
      "cell_type": "code",
      "source": [
        "# for variety, lets use altair to do the plot\n",
        "import altair as alt\n",
        "\n",
        "# create a pandas dataframe for the loss\n",
        "df = pd.DataFrame({\n",
        "    'epoch': range(1, len(train_losses) + 1),\n",
        "    'train': train_losses,\n",
        "    'valid': valid_losses\n",
        "})\n",
        "\n",
        "# unpivot to have cols [epoch, dataset, loss]\n",
        "df = df.melt(id_vars=['epoch'],\n",
        "             value_vars=['train', 'valid'],\n",
        "             value_name='loss',\n",
        "             var_name='Dataset')\n",
        "\n",
        "# line plot with altair\n",
        "alt.Chart(df).mark_line(point=True)\\\n",
        "    .encode(x='epoch', y='loss', color='Dataset')\\\n",
        "    .interactive()"
      ],
      "execution_count": 82,
      "outputs": [
        {
          "output_type": "execute_result",
          "data": {
            "text/plain": [
              "Chart({\n",
              "  data:     epoch Dataset        loss\n",
              "  0       1   train  233.243606\n",
              "  1       2   train  210.590872\n",
              "  2       3   train  187.767479\n",
              "  3       4   train  162.330839\n",
              "  4       5   train  130.204337\n",
              "  5       6   train  117.957267\n",
              "  6       7   train  109.287378\n",
              "  7       8   train  103.765012\n",
              "  8       9   train   98.896323\n",
              "  9      10   train   95.364446\n",
              "  10     11   train   91.624381\n",
              "  11     12   train   88.704926\n",
              "  12     13   train   86.300548\n",
              "  13     14   train   83.814969\n",
              "  14     15   train   82.130820\n",
              "  15     16   train   80.073364\n",
              "  16      1   valid  222.796002\n",
              "  17      2   valid  189.764889\n",
              "  18      3   valid  174.450768\n",
              "  19      4   valid  125.585792\n",
              "  20      5   valid  110.189026\n",
              "  21      6   valid  101.548969\n",
              "  22      7   valid   97.562723\n",
              "  23      8   valid   93.096798\n",
              "  24      9   valid   90.772826\n",
              "  25     10   valid   89.842131\n",
              "  26     11   valid   86.494559\n",
              "  27     12   valid   83.994798\n",
              "  28     13   valid   83.456165\n",
              "  29     14   valid   81.519681\n",
              "  30     15   valid   80.117015\n",
              "  31     16   valid   80.232093,\n",
              "  encoding: EncodingWithFacet({\n",
              "    color: Color({\n",
              "      shorthand: 'Dataset'\n",
              "    }),\n",
              "    x: X({\n",
              "      shorthand: 'epoch'\n",
              "    }),\n",
              "    y: Y({\n",
              "      shorthand: 'loss'\n",
              "    })\n",
              "  }),\n",
              "  mark: MarkDef({\n",
              "    point: True,\n",
              "    type: 'line'\n",
              "  }),\n",
              "  selection: SelectionMapping({\n",
              "    selector004: SelectionDef({\n",
              "      bind: 'scales',\n",
              "      encodings: ['x', 'y'],\n",
              "      type: 'interval'\n",
              "    })\n",
              "  })\n",
              "})"
            ],
            "text/html": [
              "<!DOCTYPE html>\n",
              "<html>\n",
              "<head>\n",
              "  <style>\n",
              "    .vega-actions a {\n",
              "        margin-right: 12px;\n",
              "        color: #757575;\n",
              "        font-weight: normal;\n",
              "        font-size: 13px;\n",
              "    }\n",
              "    .error {\n",
              "        color: red;\n",
              "    }\n",
              "  </style>\n",
              "  <script type=\"text/javascript\" src=\"https://cdn.jsdelivr.net/npm//vega@4\"></script>\n",
              "  <script type=\"text/javascript\" src=\"https://cdn.jsdelivr.net/npm//vega-lite@2.6.0\"></script>\n",
              "  <script type=\"text/javascript\" src=\"https://cdn.jsdelivr.net/npm//vega-embed@3\"></script>\n",
              "</head>\n",
              "<body>\n",
              "  <div id=\"altair-viz\"></div>\n",
              "  <script>\n",
              "      var spec = {\"config\": {\"view\": {\"width\": 400, \"height\": 300}}, \"data\": {\"name\": \"data-583cd0d60d59a5d8928425ba18470fc4\"}, \"mark\": {\"type\": \"line\", \"point\": true}, \"encoding\": {\"color\": {\"type\": \"nominal\", \"field\": \"Dataset\"}, \"x\": {\"type\": \"quantitative\", \"field\": \"epoch\"}, \"y\": {\"type\": \"quantitative\", \"field\": \"loss\"}}, \"selection\": {\"selector004\": {\"type\": \"interval\", \"bind\": \"scales\", \"encodings\": [\"x\", \"y\"]}}, \"$schema\": \"https://vega.github.io/schema/vega-lite/v2.6.0.json\", \"datasets\": {\"data-583cd0d60d59a5d8928425ba18470fc4\": [{\"epoch\": 1, \"Dataset\": \"train\", \"loss\": 233.2436062335968}, {\"epoch\": 2, \"Dataset\": \"train\", \"loss\": 210.5908718109131}, {\"epoch\": 3, \"Dataset\": \"train\", \"loss\": 187.76747949123381}, {\"epoch\": 4, \"Dataset\": \"train\", \"loss\": 162.33083941936493}, {\"epoch\": 5, \"Dataset\": \"train\", \"loss\": 130.20433745384216}, {\"epoch\": 6, \"Dataset\": \"train\", \"loss\": 117.95726710557938}, {\"epoch\": 7, \"Dataset\": \"train\", \"loss\": 109.28737796545029}, {\"epoch\": 8, \"Dataset\": \"train\", \"loss\": 103.76501231193542}, {\"epoch\": 9, \"Dataset\": \"train\", \"loss\": 98.89632309675217}, {\"epoch\": 10, \"Dataset\": \"train\", \"loss\": 95.36444636583329}, {\"epoch\": 11, \"Dataset\": \"train\", \"loss\": 91.62438099384308}, {\"epoch\": 12, \"Dataset\": \"train\", \"loss\": 88.70492573976517}, {\"epoch\": 13, \"Dataset\": \"train\", \"loss\": 86.30054777860641}, {\"epoch\": 14, \"Dataset\": \"train\", \"loss\": 83.81496912240982}, {\"epoch\": 15, \"Dataset\": \"train\", \"loss\": 82.13082040548325}, {\"epoch\": 16, \"Dataset\": \"train\", \"loss\": 80.0733642578125}, {\"epoch\": 1, \"Dataset\": \"valid\", \"loss\": 222.79600167274475}, {\"epoch\": 2, \"Dataset\": \"valid\", \"loss\": 189.76488852500916}, {\"epoch\": 3, \"Dataset\": \"valid\", \"loss\": 174.45076751708984}, {\"epoch\": 4, \"Dataset\": \"valid\", \"loss\": 125.58579158782959}, {\"epoch\": 5, \"Dataset\": \"valid\", \"loss\": 110.18902570009232}, {\"epoch\": 6, \"Dataset\": \"valid\", \"loss\": 101.54896903038025}, {\"epoch\": 7, \"Dataset\": \"valid\", \"loss\": 97.56272339820862}, {\"epoch\": 8, \"Dataset\": \"valid\", \"loss\": 93.0967983007431}, {\"epoch\": 9, \"Dataset\": \"valid\", \"loss\": 90.77282619476318}, {\"epoch\": 10, \"Dataset\": \"valid\", \"loss\": 89.84213125705719}, {\"epoch\": 11, \"Dataset\": \"valid\", \"loss\": 86.49455916881561}, {\"epoch\": 12, \"Dataset\": \"valid\", \"loss\": 83.99479800462723}, {\"epoch\": 13, \"Dataset\": \"valid\", \"loss\": 83.45616471767426}, {\"epoch\": 14, \"Dataset\": \"valid\", \"loss\": 81.51968121528625}, {\"epoch\": 15, \"Dataset\": \"valid\", \"loss\": 80.1170149743557}, {\"epoch\": 16, \"Dataset\": \"valid\", \"loss\": 80.23209297657013}]}};\n",
              "      var embedOpt = {\"mode\": \"vega-lite\"};\n",
              "\n",
              "      function showError(el, error){\n",
              "          el.innerHTML = ('<div class=\"error\" style=\"color:red;\">'\n",
              "                          + '<p>JavaScript Error: ' + error.message + '</p>'\n",
              "                          + \"<p>This usually means there's a typo in your chart specification. \"\n",
              "                          + \"See the javascript console for the full traceback.</p>\"\n",
              "                          + '</div>');\n",
              "          throw error;\n",
              "      }\n",
              "      const el = document.getElementById('altair-viz');\n",
              "      vegaEmbed(\"#altair-viz\", spec, embedOpt)\n",
              "        .catch(error => showError(el, error));\n",
              "\n",
              "  </script>\n",
              "</body>\n",
              "</html>"
            ]
          },
          "metadata": {
            "tags": []
          },
          "execution_count": 82
        }
      ]
    }
  ]
}